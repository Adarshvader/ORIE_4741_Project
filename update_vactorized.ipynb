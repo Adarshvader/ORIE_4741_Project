{
 "cells": [
  {
   "cell_type": "code",
   "execution_count": null,
   "metadata": {},
   "outputs": [],
   "source": [
    "import pandas as pd\n",
    "import numpy as np\n",
    "\n",
    "data = pd.read_csv(\"processed_lyrics_delet2.csv\")\n",
    "\n",
    "arr = []\n",
    "for i in range(len(data)):\n",
    "    arr.extend([data.loc[i, \"lyric\"].split()])\n",
    "\n",
    "data[\"split_lyrics\"] = arr\n",
    "\n",
    "arr1 = []\n",
    "dict1 = {}\n",
    "\n",
    "for i in range(len(arr)):\n",
    "    arr1.extend(data.loc[i, \"split_lyrics\"])\n",
    "\n",
    "for i in arr1:\n",
    "    if i in dict1.keys():\n",
    "        dict1[i] += 1\n",
    "    else:\n",
    "        dict1[i] = 1\n",
    "\n",
    "\n",
    "print(data.loc[4,\"mood\"])\n",
    "\n",
    "# creating the feature matrix\n",
    "from sklearn.feature_extraction.text import CountVectorizer\n",
    "\n",
    "matrix = CountVectorizer(max_features=1000)\n",
    "\n",
    "X = matrix.fit_transform(data[\"lyric\"])\n",
    "Y = X.toarray()\n",
    "\n",
    "Y_df = pd.DataFrame(Y, columns=matrix.get_feature_names())\n",
    "Y_df[\"mood_label\"] = data[\"mood\"]\n",
    "\n",
    "Y_df.to_csv(r'vectorized.csv')\n",
    "# for i in X[1]:\n",
    "#     if i > 0:\n",
    "#         print(\"True\")\n",
    "#     else:\n",
    "#         print(\"False\")\n"
   ]
  }
 ],
 "metadata": {
  "kernelspec": {
   "display_name": "Python 3",
   "language": "python",
   "name": "python3"
  },
  "language_info": {
   "codemirror_mode": {
    "name": "ipython",
    "version": 3
   },
   "file_extension": ".py",
   "mimetype": "text/x-python",
   "name": "python",
   "nbconvert_exporter": "python",
   "pygments_lexer": "ipython3",
   "version": "3.7.4"
  }
 },
 "nbformat": 4,
 "nbformat_minor": 2
}
